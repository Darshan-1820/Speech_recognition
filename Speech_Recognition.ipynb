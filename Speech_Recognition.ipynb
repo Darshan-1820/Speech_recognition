{
 "cells": [
  {
   "cell_type": "code",
   "execution_count": 3,
   "id": "bc167529",
   "metadata": {},
   "outputs": [
    {
     "name": "stdout",
     "output_type": "stream",
     "text": [
      "3.10.0\n"
     ]
    }
   ],
   "source": [
    "import speech_recognition as sr\n",
    "print(sr.__version__)"
   ]
  },
  {
   "cell_type": "code",
   "execution_count": 4,
   "id": "33d473fa",
   "metadata": {},
   "outputs": [],
   "source": [
    "recognizer = sr.Recognizer()\n"
   ]
  },
  {
   "cell_type": "code",
   "execution_count": 5,
   "id": "0eb6138c",
   "metadata": {},
   "outputs": [],
   "source": [
    "recognizer.energy_threshold = 300"
   ]
  },
  {
   "cell_type": "code",
   "execution_count": 6,
   "id": "60ed9305",
   "metadata": {},
   "outputs": [],
   "source": [
    "import speech_recognition as sr"
   ]
  },
  {
   "cell_type": "code",
   "execution_count": 15,
   "id": "24d990b6",
   "metadata": {},
   "outputs": [
    {
     "name": "stdout",
     "output_type": "stream",
     "text": [
      "Start Talking\n",
      "Time over, thank you\n",
      "Sorry, I did not get that\n"
     ]
    }
   ],
   "source": [
    "import speech_recognition as sr\n",
    "\n",
    "recognizer = sr.Recognizer()\n",
    "\n",
    "with sr.Microphone() as source:\n",
    "    print(\"Start Talking\")\n",
    "    audio_text = recognizer.listen(source)\n",
    "    print(\"Time over, thank you\")\n",
    "    \n",
    "    try:\n",
    "        print(\"Text: \"+recognizer.recognize_google(audio_text))\n",
    "    except:\n",
    "         print(\"Sorry, I did not get that\")"
   ]
  },
  {
   "cell_type": "code",
   "execution_count": null,
   "id": "eed08b01",
   "metadata": {},
   "outputs": [],
   "source": []
  }
 ],
 "metadata": {
  "kernelspec": {
   "display_name": "Python 3 (ipykernel)",
   "language": "python",
   "name": "python3"
  },
  "language_info": {
   "codemirror_mode": {
    "name": "ipython",
    "version": 3
   },
   "file_extension": ".py",
   "mimetype": "text/x-python",
   "name": "python",
   "nbconvert_exporter": "python",
   "pygments_lexer": "ipython3",
   "version": "3.10.9"
  }
 },
 "nbformat": 4,
 "nbformat_minor": 5
}
